{
 "cells": [
  {
   "cell_type": "markdown",
   "id": "fresh-venue",
   "metadata": {},
   "source": [
    "# Disney Wait Times R Recess "
   ]
  },
  {
   "cell_type": "markdown",
   "id": "polished-finding",
   "metadata": {},
   "source": [
    "## By: Kendall McCoy"
   ]
  },
  {
   "cell_type": "markdown",
   "id": "endless-appointment",
   "metadata": {},
   "source": [
    "## Data in Emerging Media and Technology"
   ]
  },
  {
   "attachments": {
    "disney.jpg": {
     "image/jpeg": "[encoded data removed]"
    }
   },
   "cell_type": "markdown",
   "id": "advisory-egyptian",
   "metadata": {},
   "source": [
    "![disney.jpg](attachment:disney.jpg)"
   ]
  },
  {
   "cell_type": "markdown",
   "id": "bright-synthetic",
   "metadata": {},
   "source": [
    "## Overview"
   ]
  },
  {
   "cell_type": "markdown",
   "id": "plastic-wilderness",
   "metadata": {},
   "source": [
    "#### Disney Wait Times with R"
   ]
  },
  {
   "cell_type": "markdown",
   "id": "atmospheric-harvard",
   "metadata": {},
   "source": [
    "Disney is a place where thousands of people go every year with their families to enjoy the Disney experience. There are tons of family activites to do like carnival games, delicious food and lastly amusement park rides like rollercoasters. In this data report we will looking at two specific rides them being the Soarin' and the Spaceship Earth ride. With these two specific attractions we will examine the wait times for them on certain days from January 2020."
   ]
  },
  {
   "cell_type": "markdown",
   "id": "applied-basket",
   "metadata": {},
   "source": [
    "#### Analysis Plan"
   ]
  },
  {
   "cell_type": "markdown",
   "id": "missing-audit",
   "metadata": {},
   "source": [
    "We will be using R's correlation and linear regression functions to determine  whether the Soarin' wait times correlate or predict the Spaceship Earth wait times."
   ]
  },
  {
   "cell_type": "markdown",
   "id": "seasonal-vertical",
   "metadata": {},
   "source": [
    "#### Environment Setup"
   ]
  },
  {
   "cell_type": "code",
   "execution_count": 1,
   "id": "liquid-monster",
   "metadata": {},
   "outputs": [],
   "source": [
    "import pandas as pd\n",
    "from matplotlib import pyplot as plt\n",
    "import numpy as np\n",
    "import os"
   ]
  },
  {
   "cell_type": "code",
   "execution_count": 2,
   "id": "proud-conversion",
   "metadata": {},
   "outputs": [
    {
     "name": "stdout",
     "output_type": "stream",
     "text": [
      "C:\\Users\\kcmcc\\anaconda3\\envs\\datainemat\\Lib\\R\n"
     ]
    }
   ],
   "source": [
    "os.environ['R_HOME'] = r\"C:\\Users\\kcmcc\\anaconda3\\envs\\datainemat\\Lib\\R\")\n",
    "print(os.environ['R_HOME'])"
   ]
  },
  {
   "cell_type": "code",
   "execution_count": 5,
   "id": "protected-upset",
   "metadata": {},
   "outputs": [
    {
     "name": "stdout",
     "output_type": "stream",
     "text": [
      "3.4.2\n"
     ]
    }
   ],
   "source": [
    "import rpy2\n",
    "print(rpy2.__version__)"
   ]
  },
  {
   "cell_type": "code",
   "execution_count": null,
   "id": "behavioral-doctor",
   "metadata": {},
   "outputs": [],
   "source": [
    "import rpy2.robjects as robjects"
   ]
  },
  {
   "cell_type": "code",
   "execution_count": null,
   "id": "covered-experiment",
   "metadata": {},
   "outputs": [],
   "source": [
    "r_cor = robjects.r[\"cor\"]\n",
    "r_lm = robjects.r[\"lm\"]\n",
    "r_predict = robjects.r[\"predict\"]\n",
    "r_plot = robjects.r[\"plot\"]\n",
    "r_summary = robjects.r[\"summary\"]"
   ]
  },
  {
   "cell_type": "markdown",
   "id": "significant-carter",
   "metadata": {},
   "source": [
    "#### The environment is setup and ready so know the data is loaded in and we can look at it"
   ]
  },
  {
   "cell_type": "code",
   "execution_count": null,
   "id": "prostate-calculator",
   "metadata": {},
   "outputs": [],
   "source": [
    "waits = pd.read_csv(r\"C:\\Users\\kcmcc\\anaconda3\\envs\\datainemat\\Lib\\R\")\n",
    "waits.head()"
   ]
  },
  {
   "cell_type": "markdown",
   "id": "dying-bread",
   "metadata": {},
   "source": [
    "This graph shows the wait times for both the Soarin' and Spaceship rides on the same days at the same times"
   ]
  },
  {
   "cell_type": "code",
   "execution_count": null,
   "id": "based-remains",
   "metadata": {},
   "outputs": [],
   "source": [
    "soarin_hist = plt.hist(waits['soarin_wait'])"
   ]
  },
  {
   "cell_type": "markdown",
   "id": "realistic-hartford",
   "metadata": {},
   "source": [
    "This graph represents the varying wait times for the 'Soarin ride attraction"
   ]
  },
  {
   "cell_type": "code",
   "execution_count": null,
   "id": "shared-underground",
   "metadata": {},
   "outputs": [],
   "source": [
    "spaceship_hist = plt.hist(waits['spaceship_wait'])"
   ]
  },
  {
   "cell_type": "markdown",
   "id": "hawaiian-football",
   "metadata": {},
   "source": [
    "This graph represents the varying wait times for the Spaceship attraction"
   ]
  },
  {
   "cell_type": "code",
   "execution_count": null,
   "id": "yellow-indication",
   "metadata": {},
   "outputs": [],
   "source": [
    "waits = waits.replace(-999.0, np.nan)"
   ]
  },
  {
   "cell_type": "code",
   "execution_count": null,
   "id": "current-statistics",
   "metadata": {},
   "outputs": [],
   "source": [
    "spaceship_hist = plt.hist(waits['spaceship_wait'])"
   ]
  },
  {
   "cell_type": "code",
   "execution_count": null,
   "id": "induced-simon",
   "metadata": {},
   "outputs": [],
   "source": [
    "fig, ax0 = plt.subplots()\n",
    "ax0 = plt.scatter(waits['spaceship_wait'], waits['soarin_wait'])\n",
    "plt.show()"
   ]
  },
  {
   "cell_type": "markdown",
   "id": "exact-indian",
   "metadata": {},
   "source": [
    "This scatterplot graph shows both the wait times for both attractions together to have a better visualization to compare the two amusement park rides"
   ]
  },
  {
   "cell_type": "code",
   "execution_count": null,
   "id": "legislative-editing",
   "metadata": {},
   "outputs": [],
   "source": [
    "soarin_r = robjects.FloatVector(waits['soarin_wait'])\n",
    "spaceship_r = robjects.FloatVector(waits['spaceship_wait'])"
   ]
  },
  {
   "cell_type": "code",
   "execution_count": null,
   "id": "vocational-talent",
   "metadata": {},
   "outputs": [],
   "source": [
    "wait_cor = r_cor(soarin_r, spaceship_r, method = \"pearson\", use = \"pairwise.complete.obs\")"
   ]
  },
  {
   "cell_type": "code",
   "execution_count": null,
   "id": "mexican-wedding",
   "metadata": {},
   "outputs": [],
   "source": [
    "wait_cor[0]"
   ]
  },
  {
   "cell_type": "code",
   "execution_count": null,
   "id": "fatty-tribe",
   "metadata": {},
   "outputs": [],
   "source": [
    "wait_cor[0] ** 2"
   ]
  },
  {
   "cell_type": "code",
   "execution_count": null,
   "id": "finished-maple",
   "metadata": {},
   "outputs": [],
   "source": [
    "simple_form = robjects.Formula(\"soarin ~ spaceship\")\n",
    "simple_form.environment['soarin'] = soarin_r\n",
    "simple_form.environment['spaceship'] = spaceship_r"
   ]
  },
  {
   "cell_type": "code",
   "execution_count": null,
   "id": "serial-ontario",
   "metadata": {},
   "outputs": [],
   "source": [
    "wait_lm = r_lm(formula = simple_form)\n",
    "type(wait_lm)"
   ]
  },
  {
   "cell_type": "code",
   "execution_count": null,
   "id": "needed-moral",
   "metadata": {},
   "outputs": [],
   "source": [
    "wait_lm"
   ]
  },
  {
   "cell_type": "code",
   "execution_count": null,
   "id": "trained-sentence",
   "metadata": {},
   "outputs": [],
   "source": [
    "wait_lm[0]"
   ]
  },
  {
   "cell_type": "code",
   "execution_count": null,
   "id": "convertible-franchise",
   "metadata": {},
   "outputs": [],
   "source": [
    "wait_lm.rx2(\"coefficients\")"
   ]
  },
  {
   "cell_type": "code",
   "execution_count": null,
   "id": "greater-zealand",
   "metadata": {},
   "outputs": [],
   "source": [
    "wait_lm.rx2(\"rsquared\")"
   ]
  },
  {
   "cell_type": "code",
   "execution_count": null,
   "id": "improved-trader",
   "metadata": {},
   "outputs": [],
   "source": [
    "print(wait_lm.names)"
   ]
  },
  {
   "cell_type": "code",
   "execution_count": null,
   "id": "cosmetic-resource",
   "metadata": {},
   "outputs": [],
   "source": [
    "print(r_summary(wait_lm).names)"
   ]
  },
  {
   "cell_type": "code",
   "execution_count": null,
   "id": "honest-petite",
   "metadata": {},
   "outputs": [],
   "source": [
    "r_summary(wait_lm).rx2('r.squared')"
   ]
  },
  {
   "cell_type": "markdown",
   "id": "successful-scroll",
   "metadata": {},
   "source": [
    "## Conclusion"
   ]
  },
  {
   "cell_type": "markdown",
   "id": "perceived-tribute",
   "metadata": {},
   "source": [
    "Based off the data that was examined and worked with there, the conclusion is that the likeliness of being able to correlate the wait time for one ride for another is possible. The Soarin' ride can be used to predict the Spaceship ride. They are very similar in wait times for a difference here and there."
   ]
  }
 ],
 "metadata": {
  "kernelspec": {
   "display_name": "Python 3",
   "language": "python",
   "name": "python3"
  },
  "language_info": {
   "codemirror_mode": {
    "name": "ipython",
    "version": 3
   },
   "file_extension": ".py",
   "mimetype": "text/x-python",
   "name": "python",
   "nbconvert_exporter": "python",
   "pygments_lexer": "ipython3",
   "version": "3.9.2"
  }
 },
 "nbformat": 4,
 "nbformat_minor": 5
}
