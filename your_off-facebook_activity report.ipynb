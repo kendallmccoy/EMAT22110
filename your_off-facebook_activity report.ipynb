{
 "cells": [
  {
   "cell_type": "markdown",
   "id": "celtic-beach",
   "metadata": {},
   "source": [
    "# \"Your_off-facebook_activity\" Report"
   ]
  },
  {
   "cell_type": "markdown",
   "id": "palestinian-tours",
   "metadata": {},
   "source": [
    "## EMAT 22110 Data in Emerging Media and Technology"
   ]
  },
  {
   "cell_type": "markdown",
   "id": "noted-darwin",
   "metadata": {},
   "source": [
    "## By: Kendall McCoy"
   ]
  },
  {
   "attachments": {
    "fb.jpg": {
     "image/jpeg": "[encoded data removed]"
    }
   },
   "cell_type": "markdown",
   "id": "sorted-hello",
   "metadata": {},
   "source": [
    "![fb.jpg](attachment:fb.jpg)"
   ]
  },
  {
   "cell_type": "markdown",
   "id": "certain-myanmar",
   "metadata": {},
   "source": [
    "### Overview"
   ]
  },
  {
   "cell_type": "markdown",
   "id": "available-zambia",
   "metadata": {},
   "source": [
    "Facebook is a platform that is used by millions of people to be able to express their interests, hobbies, favorite foods and so on. But Facebook also keeps track of the user's interactions with third party sources like visiting websites and using certain apps and much more. If you would like to know more about off-Facebook activity you can visit this site: https://www.facebook.com/help/2207256696182627. My hypothesis for this report is that with the data between websites and apps that are apart of the off facebook activity I believe that apps are in higher use than websites because it would be easier to connect and track data and information from apps on smart devices instead of websites on the Internet. A lot of apps on smart devices can connect to each other and will share data which could be easier for third parties to collect. Apps are more efficient than websites because apps are more accessible than using websites.  "
   ]
  },
  {
   "cell_type": "markdown",
   "id": "nominated-afternoon",
   "metadata": {},
   "source": [
    "### Data"
   ]
  },
  {
   "cell_type": "code",
   "execution_count": 98,
   "id": "embedded-diagram",
   "metadata": {},
   "outputs": [],
   "source": [
    "import json\n",
    "from datetime import datetime\n",
    "import matplotlib.pyplot as plt\n",
    "import numpy as np\n",
    "import pandas as pd\n",
    "import time\n",
    "from scipy import stats\n",
    "import numpy as np"
   ]
  },
  {
   "cell_type": "markdown",
   "id": "amended-private",
   "metadata": {},
   "source": [
    "The \"your_off-facebook_activity\" can be found in the ads_and_businesses folder after you have downloaded your Facebook data and have unzipped it and looked through it. And once found the json file is found it it loaded here:"
   ]
  },
  {
   "cell_type": "code",
   "execution_count": 99,
   "id": "heated-virgin",
   "metadata": {
    "scrolled": true
   },
   "outputs": [
    {
     "name": "stdout",
     "output_type": "stream",
     "text": [
      "dict_keys(['off_facebook_activity'])\n"
     ]
    }
   ],
   "source": [
    "with open(r'C:\\Users\\kcmcc\\Documents\\EMAT 22110\\your_off-facebook_activity.json') as fb:\n",
    "    fb = json.load(fb)\n",
    "print(fb.keys())"
   ]
  },
  {
   "cell_type": "code",
   "execution_count": 64,
   "id": "interstate-puppy",
   "metadata": {},
   "outputs": [
    {
     "data": {
      "text/plain": [
       "list"
      ]
     },
     "execution_count": 64,
     "metadata": {},
     "output_type": "execute_result"
    }
   ],
   "source": [
    "type(fb['off_facebook_activity'])"
   ]
  },
  {
   "cell_type": "code",
   "execution_count": 100,
   "id": "pharmaceutical-trainer",
   "metadata": {
    "scrolled": true
   },
   "outputs": [
    {
     "data": {
      "text/plain": [
       "{'name': 'Fitbit: Health & Fitness',\n",
       " 'events': [{'id': 106920676011663,\n",
       "   'type': 'ACTIVATE_APP',\n",
       "   'timestamp': 1614296700},\n",
       "  {'id': 106920676011663, 'type': 'ACTIVATE_APP', 'timestamp': 1614224760},\n",
       "  {'id': 106920676011663, 'type': 'ACTIVATE_APP', 'timestamp': 1614221760},\n",
       "  {'id': 106920676011663, 'type': 'ACTIVATE_APP', 'timestamp': 1613877960},\n",
       "  {'id': 106920676011663, 'type': 'ACTIVATE_APP', 'timestamp': 1613877060},\n",
       "  {'id': 106920676011663, 'type': 'ACTIVATE_APP', 'timestamp': 1613835660},\n",
       "  {'id': 106920676011663, 'type': 'ACTIVATE_APP', 'timestamp': 1613787180},\n",
       "  {'id': 106920676011663, 'type': 'ACTIVATE_APP', 'timestamp': 1613784240},\n",
       "  {'id': 106920676011663, 'type': 'ACTIVATE_APP', 'timestamp': 1613754300},\n",
       "  {'id': 106920676011663, 'type': 'ACTIVATE_APP', 'timestamp': 1613745300},\n",
       "  {'id': 106920676011663, 'type': 'ACTIVATE_APP', 'timestamp': 1613709180},\n",
       "  {'id': 106920676011663, 'type': 'ACTIVATE_APP', 'timestamp': 1613671920},\n",
       "  {'id': 106920676011663, 'type': 'ACTIVATE_APP', 'timestamp': 1613671020},\n",
       "  {'id': 106920676011663, 'type': 'ACTIVATE_APP', 'timestamp': 1613588460},\n",
       "  {'id': 106920676011663, 'type': 'ACTIVATE_APP', 'timestamp': 1613456100},\n",
       "  {'id': 106920676011663, 'type': 'ACTIVATE_APP', 'timestamp': 1613338080},\n",
       "  {'id': 106920676011663, 'type': 'ACTIVATE_APP', 'timestamp': 1613263680},\n",
       "  {'id': 106920676011663, 'type': 'ACTIVATE_APP', 'timestamp': 1613255940},\n",
       "  {'id': 106920676011663, 'type': 'ACTIVATE_APP', 'timestamp': 1613184180},\n",
       "  {'id': 106920676011663, 'type': 'ACTIVATE_APP', 'timestamp': 1613156580},\n",
       "  {'id': 106920676011663, 'type': 'ACTIVATE_APP', 'timestamp': 1613156280},\n",
       "  {'id': 106920676011663, 'type': 'ACTIVATE_APP', 'timestamp': 1613100960},\n",
       "  {'id': 106920676011663, 'type': 'ACTIVATE_APP', 'timestamp': 1613100540},\n",
       "  {'id': 106920676011663, 'type': 'ACTIVATE_APP', 'timestamp': 1613097240},\n",
       "  {'id': 106920676011663, 'type': 'ACTIVATE_APP', 'timestamp': 1613078220},\n",
       "  {'id': 106920676011663, 'type': 'ACTIVATE_APP', 'timestamp': 1613077320},\n",
       "  {'id': 106920676011663, 'type': 'ACTIVATE_APP', 'timestamp': 1613075820},\n",
       "  {'id': 106920676011663, 'type': 'ACTIVATE_APP', 'timestamp': 1613012760},\n",
       "  {'id': 106920676011663, 'type': 'ACTIVATE_APP', 'timestamp': 1612916700},\n",
       "  {'id': 106920676011663, 'type': 'ACTIVATE_APP', 'timestamp': 1612842480},\n",
       "  {'id': 106920676011663, 'type': 'ACTIVATE_APP', 'timestamp': 1612840680},\n",
       "  {'id': 106920676011663, 'type': 'ACTIVATE_APP', 'timestamp': 1612661160},\n",
       "  {'id': 106920676011663, 'type': 'ACTIVATE_APP', 'timestamp': 1612653180},\n",
       "  {'id': 106920676011663, 'type': 'ACTIVATE_APP', 'timestamp': 1612651620},\n",
       "  {'id': 106920676011663, 'type': 'ACTIVATE_APP', 'timestamp': 1612650060},\n",
       "  {'id': 106920676011663, 'type': 'ACTIVATE_APP', 'timestamp': 1612648500},\n",
       "  {'id': 106920676011663, 'type': 'ACTIVATE_APP', 'timestamp': 1612644600},\n",
       "  {'id': 106920676011663, 'type': 'ACTIVATE_APP', 'timestamp': 1612576440},\n",
       "  {'id': 106920676011663, 'type': 'ACTIVATE_APP', 'timestamp': 1612545900},\n",
       "  {'id': 106920676011663, 'type': 'ACTIVATE_APP', 'timestamp': 1612542600},\n",
       "  {'id': 106920676011663, 'type': 'ACTIVATE_APP', 'timestamp': 1612471260},\n",
       "  {'id': 106920676011663, 'type': 'ACTIVATE_APP', 'timestamp': 1612470300},\n",
       "  {'id': 106920676011663, 'type': 'ACTIVATE_APP', 'timestamp': 1612442700},\n",
       "  {'id': 106920676011663, 'type': 'ACTIVATE_APP', 'timestamp': 1612413420},\n",
       "  {'id': 106920676011663, 'type': 'ACTIVATE_APP', 'timestamp': 1612406760},\n",
       "  {'id': 106920676011663, 'type': 'ACTIVATE_APP', 'timestamp': 1612399080},\n",
       "  {'id': 106920676011663, 'type': 'ACTIVATE_APP', 'timestamp': 1612396560},\n",
       "  {'id': 106920676011663, 'type': 'ACTIVATE_APP', 'timestamp': 1612327980},\n",
       "  {'id': 106920676011663, 'type': 'ACTIVATE_APP', 'timestamp': 1612325820},\n",
       "  {'id': 106920676011663, 'type': 'ACTIVATE_APP', 'timestamp': 1612322640},\n",
       "  {'id': 106920676011663, 'type': 'ACTIVATE_APP', 'timestamp': 1612302300},\n",
       "  {'id': 106920676011663, 'type': 'ACTIVATE_APP', 'timestamp': 1612301940},\n",
       "  {'id': 106920676011663, 'type': 'ACTIVATE_APP', 'timestamp': 1612233240},\n",
       "  {'id': 106920676011663, 'type': 'ACTIVATE_APP', 'timestamp': 1612155840},\n",
       "  {'id': 106920676011663, 'type': 'ACTIVATE_APP', 'timestamp': 1612155240},\n",
       "  {'id': 106920676011663, 'type': 'ACTIVATE_APP', 'timestamp': 1612149840},\n",
       "  {'id': 106920676011663, 'type': 'ACTIVATE_APP', 'timestamp': 1612147620},\n",
       "  {'id': 106920676011663, 'type': 'CUSTOM', 'timestamp': 1612139400},\n",
       "  {'id': 106920676011663, 'type': 'ACTIVATE_APP', 'timestamp': 1612139340},\n",
       "  {'id': 106920676011663, 'type': 'ACTIVATE_APP', 'timestamp': 1612101960},\n",
       "  {'id': 106920676011663, 'type': 'ACTIVATE_APP', 'timestamp': 1612063740},\n",
       "  {'id': 106920676011663, 'type': 'ACTIVATE_APP', 'timestamp': 1612051380},\n",
       "  {'id': 106920676011663, 'type': 'ACTIVATE_APP', 'timestamp': 1612043520},\n",
       "  {'id': 106920676011663, 'type': 'ACTIVATE_APP', 'timestamp': 1611957660},\n",
       "  {'id': 106920676011663, 'type': 'ACTIVATE_APP', 'timestamp': 1611885300},\n",
       "  {'id': 106920676011663, 'type': 'ACTIVATE_APP', 'timestamp': 1611883980},\n",
       "  {'id': 106920676011663, 'type': 'ACTIVATE_APP', 'timestamp': 1611867960},\n",
       "  {'id': 106920676011663, 'type': 'ACTIVATE_APP', 'timestamp': 1611864720},\n",
       "  {'id': 106920676011663, 'type': 'ACTIVATE_APP', 'timestamp': 1611861240},\n",
       "  {'id': 106920676011663, 'type': 'ACTIVATE_APP', 'timestamp': 1611860340},\n",
       "  {'id': 106920676011663, 'type': 'ACTIVATE_APP', 'timestamp': 1611803580},\n",
       "  {'id': 106920676011663, 'type': 'ACTIVATE_APP', 'timestamp': 1611792420},\n",
       "  {'id': 106920676011663, 'type': 'ACTIVATE_APP', 'timestamp': 1611787680},\n",
       "  {'id': 106920676011663, 'type': 'ACTIVATE_APP', 'timestamp': 1611719520},\n",
       "  {'id': 106920676011663, 'type': 'ACTIVATE_APP', 'timestamp': 1611719040},\n",
       "  {'id': 106920676011663, 'type': 'ACTIVATE_APP', 'timestamp': 1611717960},\n",
       "  {'id': 106920676011663, 'type': 'ACTIVATE_APP', 'timestamp': 1611716880},\n",
       "  {'id': 106920676011663, 'type': 'ACTIVATE_APP', 'timestamp': 1611715560},\n",
       "  {'id': 106920676011663, 'type': 'ACTIVATE_APP', 'timestamp': 1611715200},\n",
       "  {'id': 106920676011663, 'type': 'ACTIVATE_APP', 'timestamp': 1611711480},\n",
       "  {'id': 106920676011663, 'type': 'ACTIVATE_APP', 'timestamp': 1611708480},\n",
       "  {'id': 106920676011663, 'type': 'ACTIVATE_APP', 'timestamp': 1611703500},\n",
       "  {'id': 106920676011663, 'type': 'ACTIVATE_APP', 'timestamp': 1611636780},\n",
       "  {'id': 106920676011663, 'type': 'ACTIVATE_APP', 'timestamp': 1611635940},\n",
       "  {'id': 106920676011663, 'type': 'ACTIVATE_APP', 'timestamp': 1611629940},\n",
       "  {'id': 106920676011663, 'type': 'ACTIVATE_APP', 'timestamp': 1611627420},\n",
       "  {'id': 106920676011663, 'type': 'ACTIVATE_APP', 'timestamp': 1611626580},\n",
       "  {'id': 106920676011663, 'type': 'ACTIVATE_APP', 'timestamp': 1611619740},\n",
       "  {'id': 106920676011663, 'type': 'ACTIVATE_APP', 'timestamp': 1611618660},\n",
       "  {'id': 106920676011663, 'type': 'ACTIVATE_APP', 'timestamp': 1611463440},\n",
       "  {'id': 106920676011663, 'type': 'ACTIVATE_APP', 'timestamp': 1611457740},\n",
       "  {'id': 106920676011663, 'type': 'ACTIVATE_APP', 'timestamp': 1611379440},\n",
       "  {'id': 106920676011663, 'type': 'ACTIVATE_APP', 'timestamp': 1611371280},\n",
       "  {'id': 106920676011663, 'type': 'ACTIVATE_APP', 'timestamp': 1611368520},\n",
       "  {'id': 106920676011663, 'type': 'ACTIVATE_APP', 'timestamp': 1611364980},\n",
       "  {'id': 106920676011663, 'type': 'ACTIVATE_APP', 'timestamp': 1611355680},\n",
       "  {'id': 106920676011663, 'type': 'ACTIVATE_APP', 'timestamp': 1611352080},\n",
       "  {'id': 106920676011663, 'type': 'ACTIVATE_APP', 'timestamp': 1611349500},\n",
       "  {'id': 106920676011663, 'type': 'ACTIVATE_APP', 'timestamp': 1611348960},\n",
       "  {'id': 106920676011663, 'type': 'ACTIVATE_APP', 'timestamp': 1611290460},\n",
       "  {'id': 106920676011663, 'type': 'ACTIVATE_APP', 'timestamp': 1611288900},\n",
       "  {'id': 106920676011663, 'type': 'ACTIVATE_APP', 'timestamp': 1611284460},\n",
       "  {'id': 106920676011663, 'type': 'ACTIVATE_APP', 'timestamp': 1611281700},\n",
       "  {'id': 106920676011663, 'type': 'ACTIVATE_APP', 'timestamp': 1611271800},\n",
       "  {'id': 106920676011663, 'type': 'ACTIVATE_APP', 'timestamp': 1611205380},\n",
       "  {'id': 106920676011663, 'type': 'ACTIVATE_APP', 'timestamp': 1611204660},\n",
       "  {'id': 106920676011663, 'type': 'ACTIVATE_APP', 'timestamp': 1611178380},\n",
       "  {'id': 106920676011663, 'type': 'ACTIVATE_APP', 'timestamp': 1611175440},\n",
       "  {'id': 106920676011663, 'type': 'ACTIVATE_APP', 'timestamp': 1611118800},\n",
       "  {'id': 106920676011663, 'type': 'ACTIVATE_APP', 'timestamp': 1611117180},\n",
       "  {'id': 106920676011663, 'type': 'ACTIVATE_APP', 'timestamp': 1611112140},\n",
       "  {'id': 106920676011663, 'type': 'ACTIVATE_APP', 'timestamp': 1611110520},\n",
       "  {'id': 106920676011663, 'type': 'ACTIVATE_APP', 'timestamp': 1611029280},\n",
       "  {'id': 106920676011663, 'type': 'ACTIVATE_APP', 'timestamp': 1611028680},\n",
       "  {'id': 106920676011663, 'type': 'ACTIVATE_APP', 'timestamp': 1611025020},\n",
       "  {'id': 106920676011663, 'type': 'ACTIVATE_APP', 'timestamp': 1611002400},\n",
       "  {'id': 106920676011663, 'type': 'ACTIVATE_APP', 'timestamp': 1610944080},\n",
       "  {'id': 106920676011663, 'type': 'ACTIVATE_APP', 'timestamp': 1610939460},\n",
       "  {'id': 106920676011663, 'type': 'ACTIVATE_APP', 'timestamp': 1610858520},\n",
       "  {'id': 106920676011663, 'type': 'ACTIVATE_APP', 'timestamp': 1610778720},\n",
       "  {'id': 106920676011663, 'type': 'ACTIVATE_APP', 'timestamp': 1610776860},\n",
       "  {'id': 106920676011663, 'type': 'ACTIVATE_APP', 'timestamp': 1610668680},\n",
       "  {'id': 106920676011663, 'type': 'ACTIVATE_APP', 'timestamp': 1610650680},\n",
       "  {'id': 106920676011663, 'type': 'ACTIVATE_APP', 'timestamp': 1610646120},\n",
       "  {'id': 106920676011663, 'type': 'ACTIVATE_APP', 'timestamp': 1610575200},\n",
       "  {'id': 106920676011663, 'type': 'ACTIVATE_APP', 'timestamp': 1610569980},\n",
       "  {'id': 106920676011663, 'type': 'ACTIVATE_APP', 'timestamp': 1610551800},\n",
       "  {'id': 106920676011663, 'type': 'ACTIVATE_APP', 'timestamp': 1610515500},\n",
       "  {'id': 106920676011663, 'type': 'ACTIVATE_APP', 'timestamp': 1610513040},\n",
       "  {'id': 106920676011663, 'type': 'ACTIVATE_APP', 'timestamp': 1610512140},\n",
       "  {'id': 106920676011663, 'type': 'ACTIVATE_APP', 'timestamp': 1610504940},\n",
       "  {'id': 106920676011663, 'type': 'ACTIVATE_APP', 'timestamp': 1610467680},\n",
       "  {'id': 106920676011663, 'type': 'ACTIVATE_APP', 'timestamp': 1610427660},\n",
       "  {'id': 106920676011663, 'type': 'ACTIVATE_APP', 'timestamp': 1610427360},\n",
       "  {'id': 106920676011663, 'type': 'ACTIVATE_APP', 'timestamp': 1610425440},\n",
       "  {'id': 106920676011663, 'type': 'ACTIVATE_APP', 'timestamp': 1610411580},\n",
       "  {'id': 106920676011663, 'type': 'ACTIVATE_APP', 'timestamp': 1610410860},\n",
       "  {'id': 106920676011663, 'type': 'ACTIVATE_APP', 'timestamp': 1610401560},\n",
       "  {'id': 106920676011663, 'type': 'ACTIVATE_APP', 'timestamp': 1610398260},\n",
       "  {'id': 106920676011663, 'type': 'ACTIVATE_APP', 'timestamp': 1610371440},\n",
       "  {'id': 106920676011663, 'type': 'ACTIVATE_APP', 'timestamp': 1610339400},\n",
       "  {'id': 106920676011663, 'type': 'ACTIVATE_APP', 'timestamp': 1610309580},\n",
       "  {'id': 106920676011663, 'type': 'ACTIVATE_APP', 'timestamp': 1610304840},\n",
       "  {'id': 106920676011663, 'type': 'ACTIVATE_APP', 'timestamp': 1610290980},\n",
       "  {'id': 106920676011663, 'type': 'ACTIVATE_APP', 'timestamp': 1610254260},\n",
       "  {'id': 106920676011663, 'type': 'ACTIVATE_APP', 'timestamp': 1610229360},\n",
       "  {'id': 106920676011663, 'type': 'ACTIVATE_APP', 'timestamp': 1610141820},\n",
       "  {'id': 106920676011663, 'type': 'ACTIVATE_APP', 'timestamp': 1610141160},\n",
       "  {'id': 106920676011663, 'type': 'ACTIVATE_APP', 'timestamp': 1610104320},\n",
       "  {'id': 106920676011663, 'type': 'ACTIVATE_APP', 'timestamp': 1610084220},\n",
       "  {'id': 106920676011663, 'type': 'ACTIVATE_APP', 'timestamp': 1610071800},\n",
       "  {'id': 106920676011663, 'type': 'ACTIVATE_APP', 'timestamp': 1610021580},\n",
       "  {'id': 106920676011663, 'type': 'ACTIVATE_APP', 'timestamp': 1609996920},\n",
       "  {'id': 106920676011663, 'type': 'ACTIVATE_APP', 'timestamp': 1609980240},\n",
       "  {'id': 106920676011663, 'type': 'ACTIVATE_APP', 'timestamp': 1609974120},\n",
       "  {'id': 106920676011663, 'type': 'ACTIVATE_APP', 'timestamp': 1609965480},\n",
       "  {'id': 106920676011663, 'type': 'ACTIVATE_APP', 'timestamp': 1609962240},\n",
       "  {'id': 106920676011663, 'type': 'ACTIVATE_APP', 'timestamp': 1609884780},\n",
       "  {'id': 106920676011663, 'type': 'ACTIVATE_APP', 'timestamp': 1609781220},\n",
       "  {'id': 106920676011663, 'type': 'ACTIVATE_APP', 'timestamp': 1609778700},\n",
       "  {'id': 106920676011663, 'type': 'ACTIVATE_APP', 'timestamp': 1609642380},\n",
       "  {'id': 106920676011663, 'type': 'ACTIVATE_APP', 'timestamp': 1609567800},\n",
       "  {'id': 106920676011663, 'type': 'ACTIVATE_APP', 'timestamp': 1609560300},\n",
       "  {'id': 106920676011663, 'type': 'ACTIVATE_APP', 'timestamp': 1609557840},\n",
       "  {'id': 106920676011663, 'type': 'ACTIVATE_APP', 'timestamp': 1609512060},\n",
       "  {'id': 106920676011663, 'type': 'ACTIVATE_APP', 'timestamp': 1609485480},\n",
       "  {'id': 106920676011663, 'type': 'ACTIVATE_APP', 'timestamp': 1609474980},\n",
       "  {'id': 106920676011663, 'type': 'ACTIVATE_APP', 'timestamp': 1609431360},\n",
       "  {'id': 106920676011663, 'type': 'ACTIVATE_APP', 'timestamp': 1609424040},\n",
       "  {'id': 106920676011663, 'type': 'ACTIVATE_APP', 'timestamp': 1609395060},\n",
       "  {'id': 106920676011663, 'type': 'ACTIVATE_APP', 'timestamp': 1609354440},\n",
       "  {'id': 106920676011663, 'type': 'ACTIVATE_APP', 'timestamp': 1609292940},\n",
       "  {'id': 106920676011663, 'type': 'ACTIVATE_APP', 'timestamp': 1609271460},\n",
       "  {'id': 106920676011663, 'type': 'ACTIVATE_APP', 'timestamp': 1609270320},\n",
       "  {'id': 106920676011663, 'type': 'ACTIVATE_APP', 'timestamp': 1609269420},\n",
       "  {'id': 106920676011663, 'type': 'ACTIVATE_APP', 'timestamp': 1609268700},\n",
       "  {'id': 106920676011663, 'type': 'ACTIVATE_APP', 'timestamp': 1609267140},\n",
       "  {'id': 106920676011663, 'type': 'ACTIVATE_APP', 'timestamp': 1609264380},\n",
       "  {'id': 106920676011663, 'type': 'ACTIVATE_APP', 'timestamp': 1592755140},\n",
       "  {'id': 106920676011663, 'type': 'ACTIVATE_APP', 'timestamp': 1589073840}]}"
      ]
     },
     "execution_count": 100,
     "metadata": {},
     "output_type": "execute_result"
    }
   ],
   "source": [
    "fb['off_facebook_activity'][1]"
   ]
  },
  {
   "cell_type": "markdown",
   "id": "cubic-logan",
   "metadata": {},
   "source": [
    "The example above is an example of how the off-facebook activity is structured.\n",
    "\n",
    "'name' indicates the name of the ad and or business. Ex: Fitbit: Health & Fitness\n",
    "\n",
    "'type' is referring to certain event, example activating the app or ACTIVATE APP\n",
    "\n",
    "'timestamp' is the time the 'type' occurred"
   ]
  },
  {
   "cell_type": "code",
   "execution_count": 101,
   "id": "impressed-baking",
   "metadata": {},
   "outputs": [
    {
     "data": {
      "text/plain": [
       "dict_keys(['name', 'events'])"
      ]
     },
     "execution_count": 101,
     "metadata": {},
     "output_type": "execute_result"
    }
   ],
   "source": [
    "fb['off_facebook_activity'][1].keys()"
   ]
  },
  {
   "cell_type": "code",
   "execution_count": 102,
   "id": "appropriate-proposition",
   "metadata": {},
   "outputs": [
    {
     "data": {
      "text/plain": [
       "'ACTIVATE_APP'"
      ]
     },
     "execution_count": 102,
     "metadata": {},
     "output_type": "execute_result"
    }
   ],
   "source": [
    "fb['off_facebook_activity'][1]['events'][1]['type']"
   ]
  },
  {
   "cell_type": "code",
   "execution_count": 103,
   "id": "bacterial-ordering",
   "metadata": {},
   "outputs": [
    {
     "data": {
      "text/plain": [
       "True"
      ]
     },
     "execution_count": 103,
     "metadata": {},
     "output_type": "execute_result"
    }
   ],
   "source": [
    "fb['off_facebook_activity'][1]['events'][1]['type'] == 'ACTIVATE_APP'"
   ]
  },
  {
   "cell_type": "code",
   "execution_count": 77,
   "id": "novel-somewhere",
   "metadata": {},
   "outputs": [
    {
     "data": {
      "text/plain": [
       "['app',\n",
       " 'site',\n",
       " 'site',\n",
       " 'site',\n",
       " 'site',\n",
       " 'app',\n",
       " 'site',\n",
       " 'unknown',\n",
       " 'site',\n",
       " 'site',\n",
       " 'site',\n",
       " 'device',\n",
       " 'device',\n",
       " 'site']"
      ]
     },
     "execution_count": 77,
     "metadata": {},
     "output_type": "execute_result"
    }
   ],
   "source": [
    "cats = ['app', 'site', 'site', 'site', 'site', 'app', 'site', 'unknown', 'site', 'site', 'site', 'device', 'device', 'site']\n",
    "cats"
   ]
  },
  {
   "cell_type": "code",
   "execution_count": 105,
   "id": "rotary-pricing",
   "metadata": {},
   "outputs": [
    {
     "data": {
      "text/html": [
       "<div>\n",
       "<style scoped>\n",
       "    .dataframe tbody tr th:only-of-type {\n",
       "        vertical-align: middle;\n",
       "    }\n",
       "\n",
       "    .dataframe tbody tr th {\n",
       "        vertical-align: top;\n",
       "    }\n",
       "\n",
       "    .dataframe thead th {\n",
       "        text-align: right;\n",
       "    }\n",
       "</style>\n",
       "<table border=\"1\" class=\"dataframe\">\n",
       "  <thead>\n",
       "    <tr style=\"text-align: right;\">\n",
       "      <th></th>\n",
       "      <th>Name</th>\n",
       "      <th>Event Count</th>\n",
       "      <th>Activate App</th>\n",
       "      <th>Custom</th>\n",
       "      <th>Ad Request</th>\n",
       "      <th>View Content</th>\n",
       "      <th>Page Views</th>\n",
       "      <th>catergory</th>\n",
       "      <th>category</th>\n",
       "    </tr>\n",
       "  </thead>\n",
       "  <tbody>\n",
       "    <tr>\n",
       "      <th>1</th>\n",
       "      <td>Fitbit: Health &amp; Fitness</td>\n",
       "      <td>180</td>\n",
       "      <td>179</td>\n",
       "      <td>1</td>\n",
       "      <td>0</td>\n",
       "      <td>0</td>\n",
       "      <td>0</td>\n",
       "      <td>app</td>\n",
       "      <td>app</td>\n",
       "    </tr>\n",
       "    <tr>\n",
       "      <th>3</th>\n",
       "      <td>expertjobmatch.com</td>\n",
       "      <td>69</td>\n",
       "      <td>0</td>\n",
       "      <td>0</td>\n",
       "      <td>0</td>\n",
       "      <td>0</td>\n",
       "      <td>61</td>\n",
       "      <td>site</td>\n",
       "      <td>site</td>\n",
       "    </tr>\n",
       "    <tr>\n",
       "      <th>4</th>\n",
       "      <td>dooney.com</td>\n",
       "      <td>25</td>\n",
       "      <td>0</td>\n",
       "      <td>0</td>\n",
       "      <td>0</td>\n",
       "      <td>2</td>\n",
       "      <td>23</td>\n",
       "      <td>site</td>\n",
       "      <td>site</td>\n",
       "    </tr>\n",
       "    <tr>\n",
       "      <th>6</th>\n",
       "      <td>QVC Mobile Shopping (US)</td>\n",
       "      <td>76</td>\n",
       "      <td>17</td>\n",
       "      <td>45</td>\n",
       "      <td>0</td>\n",
       "      <td>0</td>\n",
       "      <td>0</td>\n",
       "      <td>site</td>\n",
       "      <td>site</td>\n",
       "    </tr>\n",
       "    <tr>\n",
       "      <th>22</th>\n",
       "      <td>coachoutlet.com</td>\n",
       "      <td>15</td>\n",
       "      <td>0</td>\n",
       "      <td>0</td>\n",
       "      <td>0</td>\n",
       "      <td>15</td>\n",
       "      <td>0</td>\n",
       "      <td>site</td>\n",
       "      <td>site</td>\n",
       "    </tr>\n",
       "    <tr>\n",
       "      <th>27</th>\n",
       "      <td>Givelify Mobile Giving App</td>\n",
       "      <td>56</td>\n",
       "      <td>0</td>\n",
       "      <td>56</td>\n",
       "      <td>0</td>\n",
       "      <td>0</td>\n",
       "      <td>0</td>\n",
       "      <td>app</td>\n",
       "      <td>app</td>\n",
       "    </tr>\n",
       "    <tr>\n",
       "      <th>28</th>\n",
       "      <td>walmart.com</td>\n",
       "      <td>13</td>\n",
       "      <td>0</td>\n",
       "      <td>1</td>\n",
       "      <td>0</td>\n",
       "      <td>6</td>\n",
       "      <td>6</td>\n",
       "      <td>site</td>\n",
       "      <td>site</td>\n",
       "    </tr>\n",
       "    <tr>\n",
       "      <th>29</th>\n",
       "      <td>Nametests</td>\n",
       "      <td>18</td>\n",
       "      <td>5</td>\n",
       "      <td>13</td>\n",
       "      <td>0</td>\n",
       "      <td>0</td>\n",
       "      <td>0</td>\n",
       "      <td>unknown</td>\n",
       "      <td>unknown</td>\n",
       "    </tr>\n",
       "    <tr>\n",
       "      <th>32</th>\n",
       "      <td>Macy's</td>\n",
       "      <td>12</td>\n",
       "      <td>0</td>\n",
       "      <td>0</td>\n",
       "      <td>0</td>\n",
       "      <td>0</td>\n",
       "      <td>1</td>\n",
       "      <td>site</td>\n",
       "      <td>site</td>\n",
       "    </tr>\n",
       "    <tr>\n",
       "      <th>48</th>\n",
       "      <td>wayfair.com</td>\n",
       "      <td>48</td>\n",
       "      <td>0</td>\n",
       "      <td>19</td>\n",
       "      <td>0</td>\n",
       "      <td>19</td>\n",
       "      <td>10</td>\n",
       "      <td>site</td>\n",
       "      <td>site</td>\n",
       "    </tr>\n",
       "    <tr>\n",
       "      <th>121</th>\n",
       "      <td>amomama.com</td>\n",
       "      <td>42</td>\n",
       "      <td>0</td>\n",
       "      <td>13</td>\n",
       "      <td>0</td>\n",
       "      <td>5</td>\n",
       "      <td>24</td>\n",
       "      <td>site</td>\n",
       "      <td>site</td>\n",
       "    </tr>\n",
       "    <tr>\n",
       "      <th>130</th>\n",
       "      <td>Amazon Kindle</td>\n",
       "      <td>111</td>\n",
       "      <td>0</td>\n",
       "      <td>111</td>\n",
       "      <td>0</td>\n",
       "      <td>0</td>\n",
       "      <td>0</td>\n",
       "      <td>device</td>\n",
       "      <td>device</td>\n",
       "    </tr>\n",
       "    <tr>\n",
       "      <th>137</th>\n",
       "      <td>Fitbit</td>\n",
       "      <td>74</td>\n",
       "      <td>74</td>\n",
       "      <td>0</td>\n",
       "      <td>0</td>\n",
       "      <td>0</td>\n",
       "      <td>0</td>\n",
       "      <td>device</td>\n",
       "      <td>device</td>\n",
       "    </tr>\n",
       "    <tr>\n",
       "      <th>139</th>\n",
       "      <td>annnune.com</td>\n",
       "      <td>15</td>\n",
       "      <td>0</td>\n",
       "      <td>0</td>\n",
       "      <td>0</td>\n",
       "      <td>15</td>\n",
       "      <td>0</td>\n",
       "      <td>site</td>\n",
       "      <td>site</td>\n",
       "    </tr>\n",
       "  </tbody>\n",
       "</table>\n",
       "</div>"
      ],
      "text/plain": [
       "                           Name  Event Count  Activate App  Custom  \\\n",
       "1      Fitbit: Health & Fitness          180           179       1   \n",
       "3            expertjobmatch.com           69             0       0   \n",
       "4                    dooney.com           25             0       0   \n",
       "6      QVC Mobile Shopping (US)           76            17      45   \n",
       "22              coachoutlet.com           15             0       0   \n",
       "27   Givelify Mobile Giving App           56             0      56   \n",
       "28                  walmart.com           13             0       1   \n",
       "29                    Nametests           18             5      13   \n",
       "32                       Macy's           12             0       0   \n",
       "48                  wayfair.com           48             0      19   \n",
       "121                 amomama.com           42             0      13   \n",
       "130               Amazon Kindle          111             0     111   \n",
       "137                      Fitbit           74            74       0   \n",
       "139                 annnune.com           15             0       0   \n",
       "\n",
       "     Ad Request  View Content  Page Views catergory category  \n",
       "1             0             0           0       app      app  \n",
       "3             0             0          61      site     site  \n",
       "4             0             2          23      site     site  \n",
       "6             0             0           0      site     site  \n",
       "22            0            15           0      site     site  \n",
       "27            0             0           0       app      app  \n",
       "28            0             6           6      site     site  \n",
       "29            0             0           0   unknown  unknown  \n",
       "32            0             0           1      site     site  \n",
       "48            0            19          10      site     site  \n",
       "121           0             5          24      site     site  \n",
       "130           0             0           0    device   device  \n",
       "137           0             0           0    device   device  \n",
       "139           0            15           0      site     site  "
      ]
     },
     "execution_count": 105,
     "metadata": {},
     "output_type": "execute_result"
    }
   ],
   "source": [
    "sub_apps['category'] = cats \n",
    "sub_apps"
   ]
  },
  {
   "cell_type": "markdown",
   "id": "incorrect-narrow",
   "metadata": {},
   "source": [
    "Above some more data from Facebook is pulled and organized to show the amount of type interactions and how they categorized into groups like app, website, unknown and device."
   ]
  },
  {
   "cell_type": "code",
   "execution_count": 111,
   "id": "medieval-parade",
   "metadata": {},
   "outputs": [
    {
     "data": {
      "text/plain": [
       "<function matplotlib.pyplot.show(close=None, block=None)>"
      ]
     },
     "execution_count": 111,
     "metadata": {},
     "output_type": "execute_result"
    },
    {
     "data": {
      "image/png": "[encoded data removed]",
      "text/plain": [
       "<Figure size 432x288 with 1 Axes>"
      ]
     },
     "metadata": {
      "needs_background": "light"
     },
     "output_type": "display_data"
    }
   ],
   "source": [
    "bins = np.linspace(0, 180, 10)\n",
    "apps = sub_apps['Event Count'].loc[sub_apps['category'] == 'app']\n",
    "sites = sub_apps['Event Count'].loc[sub_apps['category'] == 'site']\n",
    "plt.hist([apps, sites], bins, label = ['Apps', 'Websites'])\n",
    "plt.legend(loc = 'upper right')\n",
    "plt.show"
   ]
  },
  {
   "cell_type": "code",
   "execution_count": 107,
   "id": "protective-moderator",
   "metadata": {},
   "outputs": [
    {
     "data": {
      "text/plain": [
       "2.831333477128029"
      ]
     },
     "execution_count": 107,
     "metadata": {},
     "output_type": "execute_result"
    }
   ],
   "source": [
    "ttest_eventcount = stats.ttest_ind(sub_apps['Event Count'].loc[sub_apps['category'] == 'app'], sub_apps['Event Count'].loc[sub_apps['category'] == 'site'])\n",
    "ttest_eventcount.statistic"
   ]
  },
  {
   "cell_type": "markdown",
   "id": "attached-thumbnail",
   "metadata": {},
   "source": [
    "### Analysis"
   ]
  },
  {
   "cell_type": "markdown",
   "id": "seven-classroom",
   "metadata": {},
   "source": [
    "After the data was better structured based off types and category, a t test was ran to find the differences in the event count type between the websites and apps. And it found that the websites play a bigger role than the apps play. "
   ]
  },
  {
   "cell_type": "markdown",
   "id": "rolled-sigma",
   "metadata": {},
   "source": [
    "### Conclusion "
   ]
  },
  {
   "cell_type": "markdown",
   "id": "beginning-observation",
   "metadata": {},
   "source": [
    "In conclusion my hypothesis was incorrect. The apps are not in higher use than the websites. There are instances where the number of interactions in certain types are higher but overall the websites have interactions together that can challenge the apps all together. Also, it proves that websites are just as effect at using and collecting user's data just like apps.  "
   ]
  }
 ],
 "metadata": {
  "kernelspec": {
   "display_name": "Python 3",
   "language": "python",
   "name": "python3"
  },
  "language_info": {
   "codemirror_mode": {
    "name": "ipython",
    "version": 3
   },
   "file_extension": ".py",
   "mimetype": "text/x-python",
   "name": "python",
   "nbconvert_exporter": "python",
   "pygments_lexer": "ipython3",
   "version": "3.9.1"
  }
 },
 "nbformat": 4,
 "nbformat_minor": 5
}
