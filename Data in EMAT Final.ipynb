{
 "cells": [
  {
   "cell_type": "markdown",
   "id": "empty-wedding",
   "metadata": {},
   "source": [
    "# Final Project"
   ]
  },
  {
   "cell_type": "markdown",
   "id": "weighted-answer",
   "metadata": {},
   "source": [
    "## Data in Emerging Media and Technology"
   ]
  },
  {
   "cell_type": "markdown",
   "id": "immune-evidence",
   "metadata": {},
   "source": [
    "## May 11, 2021"
   ]
  },
  {
   "attachments": {
    "NBA%20vs%20WNBA.jpg": {
     "image/jpeg": "[encoded data removed]"
    }
   },
   "cell_type": "markdown",
   "id": "expressed-presence",
   "metadata": {},
   "source": [
    "![NBA%20vs%20WNBA.jpg](attachment:NBA%20vs%20WNBA.jpg)\n"
   ]
  },
  {
   "cell_type": "code",
   "execution_count": 1,
   "id": "conditional-medicaid",
   "metadata": {},
   "outputs": [],
   "source": [
    "import pandas as pd"
   ]
  },
  {
   "cell_type": "code",
   "execution_count": 2,
   "id": "sealed-latest",
   "metadata": {
    "scrolled": true
   },
   "outputs": [
    {
     "name": "stdout",
     "output_type": "stream",
     "text": [
      "                 full_name  rating jersey                  team position  \\\n",
      "0             LeBron James      97    #23    Los Angeles Lakers        F   \n",
      "1            Kawhi Leonard      97     #2  Los Angeles Clippers        F   \n",
      "2    Giannis Antetokounmpo      96    #34       Milwaukee Bucks      F-G   \n",
      "3             Kevin Durant      96     #7         Brooklyn Nets        F   \n",
      "4             James Harden      96    #13       Houston Rockets        G   \n",
      "..                     ...     ...    ...                   ...      ...   \n",
      "424        Brandon Goodwin      68     #0         Atlanta Hawks        G   \n",
      "425        Michael Frazier      68    #21       Houston Rockets        G   \n",
      "426   Kostas Antetokounmpo      68    #37    Los Angeles Lakers        F   \n",
      "427           Jalen Lecque      68     #0          Phoenix Suns        G   \n",
      "428        Duncan Robinson      67    #55            Miami Heat        F   \n",
      "\n",
      "          b_day       height                weight        salary country  \\\n",
      "0    12/30/1984   6-9 / 2.06  250 lbs. / 113.4 kg.  $37,436,858      USA   \n",
      "1     6/29/1991   6-7 / 2.01  225 lbs. / 102.1 kg.  $32,742,000      USA   \n",
      "2     12/6/1994  6-11 / 2.11  242 lbs. / 109.8 kg.  $25,842,697   Greece   \n",
      "3     9/29/1988  6-10 / 2.08  230 lbs. / 104.3 kg.  $37,199,000      USA   \n",
      "4     8/26/1989   6-5 / 1.96   220 lbs. / 99.8 kg.  $38,199,000      USA   \n",
      "..          ...          ...                   ...           ...     ...   \n",
      "424   10/2/1995   6-0 / 1.83   180 lbs. / 81.6 kg.     $522,738      USA   \n",
      "425    3/8/1994   6-3 / 1.91   200 lbs. / 90.7 kg.      $79,568      USA   \n",
      "426  11/20/1997  6-10 / 2.08   200 lbs. / 90.7 kg.      $79,568   Greece   \n",
      "427   6/13/2000   6-3 / 1.91   190 lbs. / 86.2 kg.     $898,310      USA   \n",
      "428   4/22/1994   6-7 / 2.01   215 lbs. / 97.5 kg.   $1,416,852      USA   \n",
      "\n",
      "     draft_year draft_round draft_peak             college  \n",
      "0          2003           1          1                 NaN  \n",
      "1          2011           1         15     San Diego State  \n",
      "2          2013           1         15                 NaN  \n",
      "3          2007           1          2               Texas  \n",
      "4          2009           1          3       Arizona State  \n",
      "..          ...         ...        ...                 ...  \n",
      "424        2018   Undrafted  Undrafted  Florida Gulf Coast  \n",
      "425        2015           2         60             Florida  \n",
      "426        2018   Undrafted  Undrafted              Dayton  \n",
      "427        2019   Undrafted  Undrafted                 NaN  \n",
      "428        2018   Undrafted  Undrafted            Michigan  \n",
      "\n",
      "[429 rows x 14 columns]\n"
     ]
    }
   ],
   "source": [
    "df = pd.read_csv(r\"C:\\Users\\kcmcc\\Documents\\NBA 2k data\\NBA salaries.csv\")\n",
    "print (df)"
   ]
  },
  {
   "cell_type": "code",
   "execution_count": 3,
   "id": "mobile-desktop",
   "metadata": {},
   "outputs": [
    {
     "data": {
      "text/plain": [
       "Index(['full_name', 'rating', 'jersey', 'team', 'position', 'b_day', 'height',\n",
       "       'weight', 'salary', 'country', 'draft_year', 'draft_round',\n",
       "       'draft_peak', 'college'],\n",
       "      dtype='object')"
      ]
     },
     "execution_count": 3,
     "metadata": {},
     "output_type": "execute_result"
    }
   ],
   "source": [
    "oly_uniq = pd.read_csv(r\"C:\\Users\\kcmcc\\Documents\\NBA 2k data\\NBA salaries.csv\")\n",
    "oly_uniq.keys()"
   ]
  },
  {
   "cell_type": "markdown",
   "id": "speaking-exemption",
   "metadata": {},
   "source": [
    "The NBA dataset is loaded in above. This dataset has different categories that inlcude the player's full name, their salary, what team they currently play for and much more."
   ]
  },
  {
   "cell_type": "code",
   "execution_count": 8,
   "id": "swiss-mailman",
   "metadata": {},
   "outputs": [
    {
     "name": "stdout",
     "output_type": "stream",
     "text": [
      "                     Name Position   Age     Salary                Team\n",
      "0    Skylar Diggins-Smith        G  30.0  $221,450      Phoenix Mercury\n",
      "1         Brittney Griner        C  30.0  $221,450      Phoenix Mercury\n",
      "2           Diana Taurasi        G  38.0  $221,450      Phoenix Mercury\n",
      "3             Liz Cambage        C  29.0  $221,450        Seattle Storm\n",
      "4                Sue Bird        G  40.0  $221,450       Las Vegas Aces\n",
      "..                    ...      ...   ...        ...                 ...\n",
      "140         Marina Mabrey        G  24.0   $58,170         Dallas Wings\n",
      "141      Arike Ogunbowale        G  24.0   $58,170         Dallas Wings\n",
      "142             JiSu Park        C  22.0   $58,170       Las Vegas Aces\n",
      "143          Ezi Magbegor        C  21.0   $58,170        Seattle Storm\n",
      "144         Maria Vadeeva        F  22.0   $58,170   Los Angeles Sparks\n",
      "\n",
      "[145 rows x 5 columns]\n"
     ]
    }
   ],
   "source": [
    "df = pd.read_csv(r\"C:\\Users\\kcmcc\\Documents\\NBA 2k data\\WNBA salaries.csv\")\n",
    "print (df)"
   ]
  },
  {
   "cell_type": "code",
   "execution_count": 9,
   "id": "smart-exercise",
   "metadata": {},
   "outputs": [
    {
     "data": {
      "text/plain": [
       "Index(['Name', 'Position', 'Age', 'Salary', 'Team'], dtype='object')"
      ]
     },
     "execution_count": 9,
     "metadata": {},
     "output_type": "execute_result"
    }
   ],
   "source": [
    "oly_uniq = pd.read_csv(r\"C:\\Users\\kcmcc\\Documents\\NBA 2k data\\WNBA salaries.csv\")\n",
    "oly_uniq.keys()"
   ]
  },
  {
   "cell_type": "markdown",
   "id": "informal-release",
   "metadata": {},
   "source": [
    "The WNBA dataset is loaded in above. Within the dataset is contains the player's full name, position, salary, age, and the team they currently play for."
   ]
  }
 ],
 "metadata": {
  "kernelspec": {
   "display_name": "Python 3",
   "language": "python",
   "name": "python3"
  },
  "language_info": {
   "codemirror_mode": {
    "name": "ipython",
    "version": 3
   },
   "file_extension": ".py",
   "mimetype": "text/x-python",
   "name": "python",
   "nbconvert_exporter": "python",
   "pygments_lexer": "ipython3",
   "version": "3.9.2"
  }
 },
 "nbformat": 4,
 "nbformat_minor": 5
}
